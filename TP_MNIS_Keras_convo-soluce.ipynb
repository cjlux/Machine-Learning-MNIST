{
 "cells": [
  {
   "cell_type": "markdown",
   "metadata": {},
   "source": [
    "Cahier IPython en cours d'élaboration....\n",
    "\n",
    "    v1.0 2019/06/13 BA  MAJ par Benjamin AILLOUD (stage L2 informatique)    \n",
    "    v1.1 2019/07/01 JLC MAJ des explications"
   ]
  },
  {
   "cell_type": "code",
   "execution_count": 1,
   "metadata": {},
   "outputs": [],
   "source": [
    "%matplotlib inline\n",
    "import matplotlib.pyplot as plt\n",
    "import numpy as np\n",
    "from IPython.display import Image"
   ]
  },
  {
   "cell_type": "markdown",
   "metadata": {},
   "source": [
    "# A/ Machine Learning : Réseau de neurone convolutionnel"
   ]
  },
  {
   "cell_type": "markdown",
   "metadata": {},
   "source": [
    "Le principe des réseaux convolutionnels est très différent de celui des réseaux denses vus précédemment.\n",
    "\n",
    "\n"
   ]
  },
  {
   "cell_type": "markdown",
   "metadata": {},
   "source": [
    "<p style=\"text-align:center; font-style:italic; font-size=xx-small\">\n",
    "    <img src=\"./figures/cnn_doc.png\" width=\"600\" >\n",
    "    (crédit image : JLC)\n",
    "</p>"
   ]
  },
  {
   "cell_type": "markdown",
   "metadata": {},
   "source": [
    "<img src=\"./figures/animationConvolution-1.gif\">"
   ]
  },
  {
   "cell_type": "markdown",
   "metadata": {},
   "source": [
    "L'objectif de ce TP est de comprendre le fonctionnement d'un `réseau convolutionnel` et sa construction via l'utilisation du module **keras** utilisé comme interface *high level* au module **tensorflow**. <br />\n",
    "\n",
    "Comme vu précédemment pour le cas d'un `réseau dense`, la construction d'un `réseau convolutionnel` avec le module **keras** ne requiert pas plus d'une dizaine de lignes, encore faut-il être capable de les écrires en comprenant ce qu'on écrit\n",
    "\n",
    "Le séquecement de ce TP reste essentiellement le même : \n",
    "- Import des images depuis la banque MNIST.\n",
    "- Ici, les images ne sont plus vectorisées car les réseaux convolutionnels sont compatibles avec des entrées sous forme de matrices de pixels. Il subsiste une étape de traitement des données d'entrée pour rajouter les canaux de couleurs, suivie de l'étape de normalisation.\n",
    "- `Hot encoding` des étiquettes pour les rendre comptaibles avec les sorties du réseau de neurones.\n",
    "- Construction du modèle, entraînement.\n",
    "- Analyse des résultats."
   ]
  },
  {
   "cell_type": "markdown",
   "metadata": {},
   "source": [
    "Petit rappel de cours: \n",
    "- Chaque étape de `convolution` comporte aussi une `activation` qui utilise généralement la fonction `relu`\n",
    "- Un réseau de neuronne convolutionnel se termine par une couche dense"
   ]
  },
  {
   "cell_type": "markdown",
   "metadata": {},
   "source": [
    "#  B/ Environnement Python de travail"
   ]
  },
  {
   "cell_type": "markdown",
   "metadata": {},
   "source": [
    "<span style=\"color:brown;font-family:arial;font-size:large\"> \n",
    "    Le travail qui suit doit se faire dans un <span style=\"font-weight:bold;\">environnement Python 3.6 dédié</span>\n",
    "    : voir le document <span style=\"font-style:italic\">EnvironnementPython.pdf</span> si vous n'avez pas encore créé\n",
    "    d'environnement Python dédié pour le travail avec les modules Keras et tensorflow.\n",
    "</span>"
   ]
  },
  {
   "cell_type": "markdown",
   "metadata": {},
   "source": [
    "### Environnement Python dédié\n",
    "Vérification :\n",
    "- de la version de Python : doit être 3.6.x\n",
    "- de la version de keras : doit être 2.2.x\n",
    "- de la version de tensorflow : doit être 1.14.x\n",
    "- de la version de OpenCV : doit être 3.4.x"
   ]
  },
  {
   "cell_type": "code",
   "execution_count": 2,
   "metadata": {},
   "outputs": [
    {
     "name": "stderr",
     "output_type": "stream",
     "text": [
      "Using TensorFlow backend.\n"
     ]
    },
    {
     "name": "stdout",
     "output_type": "stream",
     "text": [
      "Version de Python    : 3.6.8\n",
      "Version, de Keras    : 2.2.4\n",
      "Version de tensorflow: 1.14.0\n",
      "Version, de OpenCV   : 3.4.2\n"
     ]
    }
   ],
   "source": [
    "import sys, keras, cv2\n",
    "import tensorflow as tf\n",
    "print(f\"Version de Python    : {sys.version.split()[0]}\")\n",
    "print(f\"Version, de Keras    : {keras.__version__}\")\n",
    "print(f\"Version de tensorflow: {tf.__version__}\")\n",
    "print(f\"Version, de OpenCV   : {cv2.__version__}\")"
   ]
  },
  {
   "cell_type": "markdown",
   "metadata": {},
   "source": [
    "Incrustation des tracés matplotlib dans le cahier IPython et import de modules utiles :"
   ]
  },
  {
   "cell_type": "code",
   "execution_count": 3,
   "metadata": {},
   "outputs": [],
   "source": [
    "%matplotlib inline\n",
    "import matplotlib.pyplot as plt\n",
    "import numpy as np\n",
    "from IPython.display import Image"
   ]
  },
  {
   "cell_type": "markdown",
   "metadata": {},
   "source": [
    "# C/ Travail à faire"
   ]
  },
  {
   "cell_type": "markdown",
   "metadata": {},
   "source": [
    "## 1 -- Récupération du jeu de données MNIST "
   ]
  },
  {
   "cell_type": "markdown",
   "metadata": {},
   "source": [
    "https://fr.wikipedia.org/wiki/Base_de_données_MNIST : La base de données MNIST (*Mixed National Institute of Standards and Technology*), est une base de données de chiffres écrits à la main. C'est un jeu de données très utilisé en apprentissage automatique.<br /><br />\n",
    "L'ensemble des images du jeu de données MNIST contient **60000 images d'apprentissage** et **10000 images de test**, soit en tout **70000 images** de 28 x 28 pixels."
   ]
  },
  {
   "cell_type": "code",
   "execution_count": 4,
   "metadata": {},
   "outputs": [],
   "source": [
    "import tensorflow  \n",
    "import keras \n",
    "\n",
    "# Load data from https://www.openml.org/d/554\n",
    "from keras.datasets import mnist\n",
    "(image_train, etiq_train), (image_test, etiq_test) = mnist.load_data()"
   ]
  },
  {
   "cell_type": "markdown",
   "metadata": {},
   "source": [
    "<span style=\"color:blue;font-family:arial\">Afficher le type des objets `image_train`, `etiq_train`, `image_test` et `etiq_test` et leurs attributs `shape` et `dtype`:</span>"
   ]
  },
  {
   "cell_type": "code",
   "execution_count": 5,
   "metadata": {},
   "outputs": [
    {
     "name": "stdout",
     "output_type": "stream",
     "text": [
      "type de image_train : <class 'numpy.ndarray'>, shape: (60000, 28, 28), dtype: uint8\n",
      "type de etiq_train  : <class 'numpy.ndarray'>, shape: (60000,), dtype: uint8\n",
      "type de image_test  : <class 'numpy.ndarray'>, shape: (10000, 28, 28), dtype: uint8\n",
      "type de etiq_test   : <class 'numpy.ndarray'>, shape: (10000,), dtype: uint8\n"
     ]
    }
   ],
   "source": [
    "objs = (image_train, etiq_train, image_test, etiq_test)\n",
    "print(f\"type de image_train : {type(image_train)}, shape: {image_train.shape}, dtype: {image_train.dtype}\")\n",
    "print(f\"type de etiq_train  : {type(etiq_train)}, shape: {etiq_train.shape}, dtype: {etiq_train.dtype}\")\n",
    "print(f\"type de image_test  : {type(image_test)}, shape: {image_test.shape}, dtype: {image_test.dtype}\")\n",
    "print(f\"type de etiq_test   : {type(etiq_test)}, shape: {etiq_test.shape}, dtype: {etiq_test.dtype}\")"
   ]
  },
  {
   "cell_type": "markdown",
   "metadata": {},
   "source": [
    "## 2 -- *Hot coding* des étiquettes :"
   ]
  },
  {
   "cell_type": "code",
   "execution_count": 6,
   "metadata": {},
   "outputs": [],
   "source": [
    "import numpy as np\n",
    "from keras.utils import np_utils \n",
    "\n",
    "# Normalisation des valeurs de pixel\n",
    "image_train = image_train/255\n",
    "image_test  = image_test/255\n",
    "\n",
    "y_train = np_utils.to_categorical(etiq_train)\n",
    "y_test  = np_utils.to_categorical(etiq_test)"
   ]
  },
  {
   "cell_type": "markdown",
   "metadata": {},
   "source": [
    "L'utilisation des réseaux de convolution nécessite des `inputs` prenant en compte le nombre de `canaux de couleur`, par exemple, une image RGB possède 3 canaux de couleurs alors qu'une image en noir et blanc n'en possède qu'un.\n",
    "Pour l'instant nos inputs sont en format 2 dimensions où le canal de couleur n'est pas représenté."
   ]
  },
  {
   "cell_type": "code",
   "execution_count": 7,
   "metadata": {},
   "outputs": [
    {
     "name": "stdout",
     "output_type": "stream",
     "text": [
      "(60000, 28, 28)\n",
      "(10000, 28, 28)\n"
     ]
    }
   ],
   "source": [
    "print(image_train.shape)\n",
    "print(image_test.shape)"
   ]
  },
  {
   "cell_type": "markdown",
   "metadata": {},
   "source": [
    "<span style=\"color:blue;font-family:arial\"> \n",
    "    On rajoute la dimension du 'canal gris' :\n",
    "</span> "
   ]
  },
  {
   "cell_type": "code",
   "execution_count": 8,
   "metadata": {},
   "outputs": [],
   "source": [
    "x_train = image_train.reshape((60000,28,28,1))\n",
    "x_test  = image_test.reshape((10000,28,28,1))"
   ]
  },
  {
   "cell_type": "markdown",
   "metadata": {},
   "source": [
    "# 3 -- Construction du réseau de neurones :"
   ]
  },
  {
   "cell_type": "markdown",
   "metadata": {},
   "source": [
    "<span style=\"color:blue;font-family:arial\"> Cette fois-ci, c'est à toi de créer le **modèle** représenté dans l'image de début de tp, en utilisant le module `tensorflow`. \n",
    "    Pour créer les couches, tu dois utiliser les fonctions du module `tensorflow.keras.layers` : lit bien la doc et la description des arguments des fonctions: </span>\n",
    "- **Conv2D**:<br /> \n",
    "`Première convolution`: 16 filtres, fenêtre 5$\\times$5, activation : 'relu', input : (28, 28, 1)<br />\n",
    "`Seconde convolution` : 32 filtres, fenêtre 5$\\times$5, activation: 'relu'\n",
    "- **MaxPooling2D** : Facteur de division des matrices en largeur et hauteur (2,2)\n",
    "- **Dense** : Nombre de neuronne dans la couche = largeur output * hauteur output * nombre d'output de la couche précédente. <br> </br> Prendre en compte le pooling pour la taille des input !  \n",
    "- **Flatten**\n",
    "\n"
   ]
  },
  {
   "cell_type": "markdown",
   "metadata": {},
   "source": [
    "<span style=\"color:blue;font-family:arial\"> Utiliser les infos précédentes pour donner les valeurs des paramètres du modèle : </span>"
   ]
  },
  {
   "cell_type": "code",
   "execution_count": 38,
   "metadata": {},
   "outputs": [],
   "source": [
    "from tensorflow.keras.layers import Conv2D, MaxPooling2D, Flatten, Dense, Dropout\n",
    "from tensorflow.keras.models import Sequential\n",
    "\n",
    "tf.logging.set_verbosity(tf.logging.ERROR)  # n'afficher que les ERREURS tf, pas les warnings....\n",
    "nb_classes = len(y_train[0])\n",
    "seed = 43\n",
    "np.random.seed(seed)\n",
    "num_classes = 10\n",
    "model = Sequential()\n",
    "model.add(Conv2D(32, kernel_size=(3, 3), activation='relu', input_shape=(28,28,1)))\n",
    "model.add(Conv2D(64, (3, 3), activation='relu'))\n",
    "model.add(MaxPooling2D(pool_size=(2, 2)))\n",
    "model.add(Dropout(0.25))\n",
    "model.add(Flatten())\n",
    "model.add(Dense(128, activation='relu'))\n",
    "model.add(Dropout(0.5))\n",
    "model.add(Dense(num_classes, activation='softmax'))\n",
    "\n",
    "# Première couche convolutionnelle correspondant à la couche d'entrée (input layer) : 32 filtres, fenêtre (5,5) :\n",
    "#model.add(Conv2D(filters=32, kernel_size=(3,3), input_shape=(28,28,1), activation='relu'))\n",
    "#model.add(Conv2D(64, (3, 3), activation='relu'))\n",
    "# Réduction des donnés :\n",
    "#model.add(MaxPooling2D(pool_size=(2,2)))\n",
    "#model.add(Dropout(0.25))\n",
    "# Seconde couche convolutionnelle : 15 filtres, fenêtre(3,3)\n",
    "#model.add(Conv2D(filters=15, kernel_size=(3,3), activation='relu'))\n",
    "# Réduction des donnés :\n",
    "#model.add(MaxPooling2D(pool_size=(2,2)))\n",
    "# La fonction Dropout permet de désactiver certains neuronnes avec la probabilité définie ce qui permet d'éviter le \n",
    "# sur-apprentissage des neuronnes aussi appelé \"overfitting\"\n",
    "#model.add(Dropout(0.2))\n",
    "#model.add(Flatten())        # Vectorisation des matrices\n",
    "\n",
    "# Couche dense pour finir :\n",
    "#model.add(Dense(128, activation='relu', kernel_initializer='normal')) \n",
    "#model.add(Dense(50, activation='relu', kernel_initializer='normal')) \n",
    "\n",
    "#Couche dense de sortie (output layer)\n",
    "#model.add(Dense(10, activation='softmax', kernel_initializer='normal'))\n",
    "model.compile(loss=\"categorical_crossentropy\", optimizer=\"adam\", metrics=[\"accuracy\"])"
   ]
  },
  {
   "cell_type": "markdown",
   "metadata": {},
   "source": [
    "# 4 -- Entraînement du réseau :"
   ]
  },
  {
   "cell_type": "code",
   "execution_count": 39,
   "metadata": {},
   "outputs": [
    {
     "name": "stdout",
     "output_type": "stream",
     "text": [
      "Train on 60000 samples, validate on 10000 samples\n",
      "Epoch 1/8\n",
      "60000/60000 [==============================] - 96s 2ms/sample - loss: 0.2149 - acc: 0.9341 - val_loss: 0.0522 - val_acc: 0.9829\n",
      "Epoch 2/8\n",
      "60000/60000 [==============================] - 69s 1ms/sample - loss: 0.0835 - acc: 0.9749 - val_loss: 0.0429 - val_acc: 0.9851\n",
      "Epoch 3/8\n",
      "60000/60000 [==============================] - 77s 1ms/sample - loss: 0.0618 - acc: 0.9819 - val_loss: 0.0310 - val_acc: 0.9890\n",
      "Epoch 4/8\n",
      "60000/60000 [==============================] - 64s 1ms/sample - loss: 0.0500 - acc: 0.9848 - val_loss: 0.0305 - val_acc: 0.9900\n",
      "Epoch 5/8\n",
      "60000/60000 [==============================] - 75s 1ms/sample - loss: 0.0418 - acc: 0.9869 - val_loss: 0.0286 - val_acc: 0.9904\n",
      "Epoch 6/8\n",
      "60000/60000 [==============================] - 72s 1ms/sample - loss: 0.0372 - acc: 0.9881 - val_loss: 0.0266 - val_acc: 0.9911\n",
      "Epoch 7/8\n",
      "60000/60000 [==============================] - 71s 1ms/sample - loss: 0.0333 - acc: 0.9896 - val_loss: 0.0237 - val_acc: 0.9925\n",
      "Epoch 8/8\n",
      "60000/60000 [==============================] - 69s 1ms/sample - loss: 0.0297 - acc: 0.9904 - val_loss: 0.0291 - val_acc: 0.9917\n"
     ]
    }
   ],
   "source": [
    "# Pour vous faire gagner du temps car l'entrainement d'un réseau convolutionnel est bien plus long, on limitera\n",
    "# le paramètre `epochs` à une valeur faible (5 à 10 par exemple).\n",
    "\n",
    "history = model.fit(x_train, y_train, validation_data=(x_test, y_test), epochs=8, batch_size=100)"
   ]
  },
  {
   "cell_type": "markdown",
   "metadata": {},
   "source": [
    "### Tracé des courbes `accuracy` et `loss` :"
   ]
  },
  {
   "cell_type": "code",
   "execution_count": 34,
   "metadata": {},
   "outputs": [],
   "source": [
    "def plot(history):\n",
    "    # Plot training & validation accuracy values\n",
    "    plt.figure(figsize=(15,5))\n",
    "    ax1 = plt.subplot(1,2,1)\n",
    "    ax1.plot(history.history['acc'], 'o-',label='Train')\n",
    "    ax1.plot(history.history['val_acc'], 'o-', label='Test')\n",
    "    ax1.set_title('Model accuracy')\n",
    "    ax1.set_ylabel('Accuracy')\n",
    "    ax1.set_xlabel('Epoch') \n",
    "    #ax1.set_ylim(0.96,1.)\n",
    "    #ax1.set_yticks(np.arange(.96,1.0,0.005))\n",
    "    ax1.grid()\n",
    "    ax1.legend(loc='best')\n",
    "    # Plot training & validation loss values\n",
    "    ax2 = plt.subplot(1,2,2)\n",
    "    ax2.plot(history.history['loss'], 'o-', label='Train')\n",
    "    ax2.plot(history.history['val_loss'], 'o-',  label='Test')\n",
    "    ax2.set_title('Model loss')\n",
    "    ax2.set_ylabel('Loss')\n",
    "    ax2.set_xlabel('Epoch')\n",
    "    ax2.legend(loc='best')\n",
    "    #ax2.set_ylim(0.,0.07)\n",
    "    #ax2.set_yticks(np.arange(0,0.07,0.01))\n",
    "    ax2.grid()\n",
    "    plt.show()"
   ]
  },
  {
   "cell_type": "code",
   "execution_count": 35,
   "metadata": {},
   "outputs": [
    {
     "data": {
      "image/png": "[encoded data removed]",
      "text/plain": [
       "<Figure size 1080x360 with 2 Axes>"
      ]
     },
     "metadata": {
      "needs_background": "light"
     },
     "output_type": "display_data"
    }
   ],
   "source": [
    "plot(history)"
   ]
  },
  {
   "cell_type": "markdown",
   "metadata": {},
   "source": [
    "# 5/ Vérication de l'apprentissage avec le jeu de test"
   ]
  },
  {
   "cell_type": "markdown",
   "metadata": {},
   "source": [
    "La méthode `predict`permet de demander au modèle sa prédic£tion pour une ou plusieurs entrées.<BR />\n",
    "Exemple de prédition pour une image test numéro i dans le jeu d'images de test (0 <= i <= 10000) :"
   ]
  },
  {
   "cell_type": "code",
   "execution_count": 40,
   "metadata": {},
   "outputs": [
    {
     "name": "stdout",
     "output_type": "stream",
     "text": [
      "taux de réussite :  99.17 %\n"
     ]
    },
    {
     "data": {
      "text/plain": [
       "[0.029146796, 0.9917]"
      ]
     },
     "execution_count": 40,
     "metadata": {},
     "output_type": "execute_result"
    }
   ],
   "source": [
    "results = model.predict_on_batch(x_test)\n",
    "bonne_rep = 0\n",
    "for i, res in enumerate(results):\n",
    "    bonne_rep += (np.argmax(res) == etiq_test[i])\n",
    "print(f\"taux de réussite : {bonne_rep/len(x_test)*100 : .2f} %\")\n",
    "\n",
    "model.test_on_batch(x_test, y_test)"
   ]
  },
  {
   "cell_type": "markdown",
   "metadata": {},
   "source": [
    "**Si ton modèle est bon, tu devrez obtenir un taux de réussite aux alentours de 99% voir plus.<br />\n",
    "Rappel : Le taux de réussite peut s'améliorer en augmentant le nombre d'epochs**"
   ]
  },
  {
   "cell_type": "markdown",
   "metadata": {},
   "source": [
    "# 7/ Utiliser le réseau avec ses propres images"
   ]
  },
  {
   "cell_type": "markdown",
   "metadata": {},
   "source": [
    "On va utiliser le réseau entrainé pour voir comment il réagit avec des chiffres \"écrits à la main\" différents des chiffres de la banque MNIST...<br />\n",
    "Pour cela on utilise les images du dossier `chiffres` :"
   ]
  },
  {
   "cell_type": "code",
   "execution_count": 41,
   "metadata": {},
   "outputs": [
    {
     "name": "stdout",
     "output_type": "stream",
     "text": [
      "Images du dossier 'chiffres' : ['chiffres/0_jlc.png', 'chiffres/1_jlc.png', 'chiffres/2_jlc.png', 'chiffres/3_jlc.png', 'chiffres/4_jlc.png', 'chiffres/5_jlc.png', 'chiffres/6_jlc.png', 'chiffres/7_jlc.png', 'chiffres/8_jlc.png', 'chiffres/9_jlc.png']\n"
     ]
    }
   ],
   "source": [
    "import os\n",
    "images = ['chiffres/'+f for f in os.listdir('chiffres') if f.endswith(\".png\") or f.endswith(\".jpg\")]\n",
    "images.sort()\n",
    "print(f\"Images du dossier 'chiffres' : {images}\")"
   ]
  },
  {
   "cell_type": "markdown",
   "metadata": {},
   "source": [
    "### Lecture des fichiers image avec openCV"
   ]
  },
  {
   "cell_type": "code",
   "execution_count": 42,
   "metadata": {},
   "outputs": [
    {
     "data": {
      "text/plain": [
       "((10, 28, 28), dtype('uint8'))"
      ]
     },
     "execution_count": 42,
     "metadata": {},
     "output_type": "execute_result"
    }
   ],
   "source": [
    "import cv2\n",
    "# lecture des images -> matrices ndarray 28x28 \n",
    "input_data = [255-cv2.cvtColor(cv2.imread(image),cv2.COLOR_BGR2GRAY) for image in images]\n",
    "input_data = np.array(input_data)\n",
    "input_data.shape, input_data.dtype  # on doit avoir 4 matrices de 28 x 28 valeurs "
   ]
  },
  {
   "cell_type": "markdown",
   "metadata": {},
   "source": [
    "#### Visualistion des images :"
   ]
  },
  {
   "cell_type": "code",
   "execution_count": 43,
   "metadata": {},
   "outputs": [
    {
     "data": {
      "image/png": "[encoded data removed]",
      "text/plain": [
       "<Figure size 864x288 with 10 Axes>"
      ]
     },
     "metadata": {},
     "output_type": "display_data"
    }
   ],
   "source": [
    "plt.figure(figsize=(12,4))\n",
    "for i,M in enumerate(input_data):  \n",
    "    plt.subplot(1,12,i+1)\n",
    "    plt.imshow(input_data[i], cmap='binary', interpolation='none');\n",
    "    plt.xticks([]); plt.yticks([])"
   ]
  },
  {
   "cell_type": "markdown",
   "metadata": {},
   "source": [
    "Ajout de la dimension 'canal gris' et normalisation des images :"
   ]
  },
  {
   "cell_type": "code",
   "execution_count": 44,
   "metadata": {},
   "outputs": [],
   "source": [
    "nb_images = input_data.shape[0]\n",
    "# reshape des matrices + transformation en flots :\n",
    "X_photo = input_data.reshape(nb_images, 28,28,1).astype('float32')\n",
    "# normalisation des données :\n",
    "X_photo /= 255"
   ]
  },
  {
   "cell_type": "code",
   "execution_count": 45,
   "metadata": {},
   "outputs": [
    {
     "name": "stdout",
     "output_type": "stream",
     "text": [
      "[[0.9998 0.0000 0.0002 0.0000 0.0000 0.0000 0.0000 0.0000 0.0000 0.0000]\n",
      " [0.0000 0.8686 0.0000 0.0000 0.1311 0.0000 0.0000 0.0004 0.0000 0.0000]\n",
      " [0.0011 0.0002 0.9982 0.0002 0.0000 0.0000 0.0000 0.0000 0.0003 0.0000]\n",
      " [0.0000 0.0000 0.0000 1.0000 0.0000 0.0000 0.0000 0.0000 0.0000 0.0000]\n",
      " [0.0000 0.0000 0.0000 0.0000 0.9998 0.0000 0.0000 0.0000 0.0000 0.0002]\n",
      " [0.0000 0.0000 0.0000 0.0000 0.0000 1.0000 0.0000 0.0000 0.0000 0.0000]\n",
      " [0.0001 0.0000 0.0000 0.0000 0.0000 0.2765 0.6811 0.0000 0.0423 0.0000]\n",
      " [0.0000 0.0010 0.1706 0.2795 0.0001 0.0000 0.0000 0.5359 0.0127 0.0001]\n",
      " [0.0000 0.0002 0.0000 0.0000 0.0001 0.0267 0.0042 0.0000 0.9689 0.0000]\n",
      " [0.0000 0.3166 0.0001 0.6745 0.0000 0.0054 0.0000 0.0031 0.0002 0.0002]]\n"
     ]
    }
   ],
   "source": [
    "rep = model.predict(X_photo)\n",
    "with np.printoptions(formatter={'float': '{:0.4f}'.format}): print(rep)"
   ]
  },
  {
   "cell_type": "code",
   "execution_count": 46,
   "metadata": {},
   "outputs": [
    {
     "data": {
      "text/plain": [
       "[0, 1, 2, 3, 4, 5, 6, 7, 8, 3]"
      ]
     },
     "execution_count": 46,
     "metadata": {},
     "output_type": "execute_result"
    }
   ],
   "source": [
    "[r.argmax() for r in model.predict(X_photo)]"
   ]
  },
  {
   "cell_type": "code",
   "execution_count": null,
   "metadata": {},
   "outputs": [],
   "source": []
  }
 ],
 "metadata": {
  "kernelspec": {
   "display_name": "Python 3",
   "language": "python",
   "name": "python3"
  },
  "language_info": {
   "codemirror_mode": {
    "name": "ipython",
    "version": 3
   },
   "file_extension": ".py",
   "mimetype": "text/x-python",
   "name": "python",
   "nbconvert_exporter": "python",
   "pygments_lexer": "ipython3",
   "version": "3.8.10"
  }
 },
 "nbformat": 4,
 "nbformat_minor": 2
}
